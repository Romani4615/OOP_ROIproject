{
 "cells": [
  {
   "cell_type": "code",
   "execution_count": 1,
   "id": "55f250ed",
   "metadata": {},
   "outputs": [
    {
     "name": "stdout",
     "output_type": "stream",
     "text": [
      "please enter monthly the $ cost of your Repairs 4\n",
      "please enter the monthly $ cost of your Tax 56\n",
      "please enter the monthly $ cost of your Cash expenses 67\n",
      "please enter the monthly $ cost of your Property Manager 4\n",
      "please enter the monthly $ cost of your Vacancy expenses 3\n",
      "please enter the monthly $ cost of your Mortgage expenses 6\n",
      "[4.0, 56.0, 67.0, 4.0, 3.0, 6.0]\n",
      "140.0\n"
     ]
    }
   ],
   "source": [
    "expenses = []\n",
    "repairs = float(input('please enter monthly the $ cost of your Repairs '))\n",
    "expenses.append(repairs)\n",
    "tax = float(input('please enter the monthly $ cost of your Tax '))\n",
    "expenses.append(tax)\n",
    "cashex = float(input('please enter the monthly $ cost of your Cash expenses '))\n",
    "expenses.append(cashex)\n",
    "manager = float(input('please enter the monthly $ cost of your Property Manager '))\n",
    "expenses.append(manager)\n",
    "vacancy = float(input('please enter the monthly $ cost of your Vacancy expenses '))\n",
    "expenses.append(vacancy)\n",
    "mortgage = float(input('please enter the monthly $ cost of your Mortgage expenses '))\n",
    "expenses.append(mortgage)\n",
    "print(expenses)\n",
    "exp = sum(expenses)\n",
    "print(exp)\n"
   ]
  },
  {
   "cell_type": "code",
   "execution_count": null,
   "id": "6195bcbd",
   "metadata": {},
   "outputs": [],
   "source": []
  },
  {
   "cell_type": "code",
   "execution_count": null,
   "id": "98e1385a",
   "metadata": {},
   "outputs": [],
   "source": [
    "my_dict = {\"repairs\":[],\"tax\":[],\"cashex\":[], \"manager\":[], };\n",
    "repairs = float(input('please enter monthly the $ cost of your Repairs '))\n",
    "my_dict[\"repairs\"].append(repairs)\n",
    "tax = float(input('please enter the monthly $ cost of your Tax '))\n",
    "my_dict[\"tax\"].append(tax)\n",
    "cashex = float(input('please enter the monthly $ cost of your Cash expenses '))\n",
    "my_dict[\"cashex\"].append(cashex)\n",
    "manager = float(input('please enter the monthly $ cost of your Property Manager '))\n",
    "my_dict[\"manager\"].append(manager)\n",
    "print(my_dict)\n",
    "\n",
    "\n",
    "final = float(my_dict[\"repairs\"]) + float(my_dict[\"tax\"]) + float(my_dict[\"cashex\"]) + float(my_dict[\"manager\"])\n",
    "print(final)\n"
   ]
  },
  {
   "cell_type": "code",
   "execution_count": null,
   "id": "72d0dd43",
   "metadata": {},
   "outputs": [],
   "source": []
  },
  {
   "cell_type": "code",
   "execution_count": null,
   "id": "827940d6",
   "metadata": {},
   "outputs": [],
   "source": [
    "mydict = {}\n",
    "mydict(repairs) = float(input('please enter monthly the $ cost of your Repairs '))\n",
    "print(mydict)\n",
    "expenses = {\n",
    "    'manager' : 100,\n",
    "    'repairs' : 80,\n",
    "}\n",
    "final = int(expenses['repairs']) + int(expenses['manager'])\n",
    "print(final)"
   ]
  }
 ],
 "metadata": {
  "kernelspec": {
   "display_name": "Python 3",
   "language": "python",
   "name": "python3"
  },
  "language_info": {
   "codemirror_mode": {
    "name": "ipython",
    "version": 3
   },
   "file_extension": ".py",
   "mimetype": "text/x-python",
   "name": "python",
   "nbconvert_exporter": "python",
   "pygments_lexer": "ipython3",
   "version": "3.8.8"
  }
 },
 "nbformat": 4,
 "nbformat_minor": 5
}
