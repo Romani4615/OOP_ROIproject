{
 "cells": [
  {
   "cell_type": "markdown",
   "id": "a43c3923",
   "metadata": {},
   "source": [
    "# ****************************************API********************************************"
   ]
  },
  {
   "cell_type": "code",
   "execution_count": null,
   "id": "c04d15c2",
   "metadata": {},
   "outputs": [],
   "source": [
    "application programming interface"
   ]
  },
  {
   "cell_type": "code",
   "execution_count": 2,
   "id": "a0596020",
   "metadata": {},
   "outputs": [
    {
     "data": {
      "text/plain": [
       "200"
      ]
     },
     "execution_count": 2,
     "metadata": {},
     "output_type": "execute_result"
    }
   ],
   "source": [
    "import requests as r\n",
    "\n",
    "data = r.get('https://pokeapi.co/api/v2/pokemon/ditto')\n",
    "data.status_code"
   ]
  },
  {
   "cell_type": "code",
   "execution_count": 10,
   "id": "ee1d6cb0",
   "metadata": {},
   "outputs": [
    {
     "data": {
      "text/plain": [
       "'limber'"
      ]
     },
     "execution_count": 10,
     "metadata": {},
     "output_type": "execute_result"
    }
   ],
   "source": [
    "ditto_data = data.json()\n",
    "ditto_data['abilities'][0]['ability']['name']"
   ]
  },
  {
   "cell_type": "code",
   "execution_count": 28,
   "id": "d5bc162e",
   "metadata": {},
   "outputs": [],
   "source": []
  },
  {
   "cell_type": "code",
   "execution_count": 11,
   "id": "3fad9005",
   "metadata": {},
   "outputs": [
    {
     "data": {
      "text/plain": [
       "200"
      ]
     },
     "execution_count": 11,
     "metadata": {},
     "output_type": "execute_result"
    }
   ],
   "source": [
    "import requests as r\n",
    "data = r.get('https://pokeapi.co/api/v2/pokemon/entei')\n",
    "data.status_code\n",
    "\n"
   ]
  },
  {
   "cell_type": "code",
   "execution_count": 19,
   "id": "ae7d043a",
   "metadata": {},
   "outputs": [
    {
     "ename": "NameError",
     "evalue": "name 'entei' is not defined",
     "output_type": "error",
     "traceback": [
      "\u001b[0;31m---------------------------------------------------------------------------\u001b[0m",
      "\u001b[0;31mNameError\u001b[0m                                 Traceback (most recent call last)",
      "\u001b[0;32m<ipython-input-19-44433fce854b>\u001b[0m in \u001b[0;36m<module>\u001b[0;34m\u001b[0m\n\u001b[1;32m      1\u001b[0m \u001b[0mdata\u001b[0m \u001b[0;34m=\u001b[0m \u001b[0mr\u001b[0m\u001b[0;34m.\u001b[0m\u001b[0mget\u001b[0m\u001b[0;34m(\u001b[0m\u001b[0;34m'https://pokeapi.co/api/v2/pokemon/entei'\u001b[0m\u001b[0;34m)\u001b[0m\u001b[0;34m\u001b[0m\u001b[0;34m\u001b[0m\u001b[0m\n\u001b[1;32m      2\u001b[0m \u001b[0;32mif\u001b[0m \u001b[0mdata\u001b[0m\u001b[0;34m.\u001b[0m\u001b[0mstatus_code\u001b[0m \u001b[0;34m==\u001b[0m \u001b[0;36m200\u001b[0m\u001b[0;34m:\u001b[0m\u001b[0;34m\u001b[0m\u001b[0;34m\u001b[0m\u001b[0m\n\u001b[0;32m----> 3\u001b[0;31m     \u001b[0mentei\u001b[0m \u001b[0;34m=\u001b[0m \u001b[0mentei\u001b[0m\u001b[0;34m.\u001b[0m\u001b[0mjson\u001b[0m\u001b[0;34m(\u001b[0m\u001b[0;34m)\u001b[0m\u001b[0;34m\u001b[0m\u001b[0;34m\u001b[0m\u001b[0m\n\u001b[0m\u001b[1;32m      4\u001b[0m     \u001b[0mprint\u001b[0m\u001b[0;34m(\u001b[0m\u001b[0mentei\u001b[0m\u001b[0;34m[\u001b[0m\u001b[0;34m'game_indices'\u001b[0m\u001b[0;34m]\u001b[0m\u001b[0;34m[\u001b[0m\u001b[0;36m5\u001b[0m\u001b[0;34m]\u001b[0m\u001b[0;34m[\u001b[0m\u001b[0;34m'version'\u001b[0m\u001b[0;34m]\u001b[0m\u001b[0;34m[\u001b[0m\u001b[0;34m'name'\u001b[0m\u001b[0;34m]\u001b[0m\u001b[0;34m)\u001b[0m\u001b[0;34m\u001b[0m\u001b[0;34m\u001b[0m\u001b[0m\n\u001b[1;32m      5\u001b[0m \u001b[0;34m\u001b[0m\u001b[0m\n",
      "\u001b[0;31mNameError\u001b[0m: name 'entei' is not defined"
     ]
    }
   ],
   "source": [
    "\n",
    "data = r.get('https://pokeapi.co/api/v2/pokemon/entei')\n",
    "if data.status_code == 200:\n",
    "    entei_data = data.json()\n",
    "    print(entei_data['game_indices'][5]['version']['name'])\n",
    "    \n",
    "else:\n",
    "    print(\"you're garbage/muffcabbage\")\n",
    "    "
   ]
  },
  {
   "cell_type": "code",
   "execution_count": 25,
   "id": "34e068b0",
   "metadata": {},
   "outputs": [
    {
     "name": "stdout",
     "output_type": "stream",
     "text": [
      "emerald\n"
     ]
    }
   ],
   "source": [
    "entei = r.get('https://pokeapi.co/api/v2/pokemon/entei')\n",
    "if data.status_code == 200:\n",
    "    entei = entei.json()\n",
    "    print(entei['game_indices'][5]['version']['name'])"
   ]
  },
  {
   "cell_type": "code",
   "execution_count": 26,
   "id": "a3f9af40",
   "metadata": {},
   "outputs": [
    {
     "name": "stdout",
     "output_type": "stream",
     "text": [
      "emerald\n",
      "line 5: gold\n",
      "line 5: silver\n",
      "line 5: crystal\n",
      "line 5: ruby\n",
      "line 5: sapphire\n",
      "line 5: emerald\n",
      "line 5: firered\n",
      "line 5: leafgreen\n",
      "line 5: diamond\n",
      "line 5: pearl\n",
      "line 5: platinum\n",
      "line 5: heartgold\n",
      "line 5: soulsilver\n",
      "line 5: black\n",
      "line 5: white\n",
      "line 5: black-2\n",
      "line 5: white-2\n"
     ]
    }
   ],
   "source": [
    "print(entei['game_indices'][5]['version']['name'])\n",
    "enteigames = []\n",
    "for game in entei['game_indices']:  #game is now index of enteigame indies\n",
    "    print(f\"line 5: {game['version']['name']}\")\n",
    "    enteigames.append(game['version']['name'])\n",
    "    "
   ]
  },
  {
   "cell_type": "markdown",
   "id": "722e6297",
   "metadata": {},
   "source": [
    "# API PROJECT pokemon"
   ]
  },
  {
   "cell_type": "code",
   "execution_count": null,
   "id": "b427d601",
   "metadata": {},
   "outputs": [],
   "source": [
    "a_pokemon = {\n",
    "    'name' : 'madeupname',\n",
    "    'abilities' : \n",
    "    \n",
    "}"
   ]
  }
 ],
 "metadata": {
  "kernelspec": {
   "display_name": "Python 3",
   "language": "python",
   "name": "python3"
  },
  "language_info": {
   "codemirror_mode": {
    "name": "ipython",
    "version": 3
   },
   "file_extension": ".py",
   "mimetype": "text/x-python",
   "name": "python",
   "nbconvert_exporter": "python",
   "pygments_lexer": "ipython3",
   "version": "3.8.8"
  }
 },
 "nbformat": 4,
 "nbformat_minor": 5
}
